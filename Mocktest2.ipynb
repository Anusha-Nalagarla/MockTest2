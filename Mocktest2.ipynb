{
 "cells": [
  {
   "cell_type": "markdown",
   "id": "c86c9018",
   "metadata": {},
   "source": [
    "Given a non-negative integer x, return the square root of x rounded down to the nearest integer. The returned integer should be non-negative as well. You must not use any built-in exponent function or operator. \n",
    "\n",
    " Example 1:\n",
    "Input: x = 4 Output: 2 Explanation: The square root of 4 is 2, so we return 2."
   ]
  },
  {
   "cell_type": "code",
   "execution_count": 1,
   "id": "c9e2995e",
   "metadata": {},
   "outputs": [
    {
     "data": {
      "text/plain": [
       "2"
      ]
     },
     "execution_count": 1,
     "metadata": {},
     "output_type": "execute_result"
    }
   ],
   "source": [
    "def squre(x):\n",
    "    if (x == 0 or x == 1):\n",
    "        return x\n",
    "    i = 1\n",
    "    result = 1\n",
    "    while (result <= x): \n",
    "        i += 1\n",
    "        result = i * i \n",
    "    return i - 1\n",
    "squre(4)   "
   ]
  },
  {
   "cell_type": "code",
   "execution_count": null,
   "id": "5a4ac323",
   "metadata": {},
   "outputs": [],
   "source": []
  }
 ],
 "metadata": {
  "kernelspec": {
   "display_name": "Python 3 (ipykernel)",
   "language": "python",
   "name": "python3"
  },
  "language_info": {
   "codemirror_mode": {
    "name": "ipython",
    "version": 3
   },
   "file_extension": ".py",
   "mimetype": "text/x-python",
   "name": "python",
   "nbconvert_exporter": "python",
   "pygments_lexer": "ipython3",
   "version": "3.9.12"
  }
 },
 "nbformat": 4,
 "nbformat_minor": 5
}
